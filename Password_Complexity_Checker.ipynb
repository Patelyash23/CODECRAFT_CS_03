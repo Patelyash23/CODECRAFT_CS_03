{
  "nbformat": 4,
  "nbformat_minor": 0,
  "metadata": {
    "colab": {
      "provenance": [],
      "authorship_tag": "ABX9TyPHlvFl7E/yn2M8TFJseX3h",
      "include_colab_link": true
    },
    "kernelspec": {
      "name": "python3",
      "display_name": "Python 3"
    },
    "language_info": {
      "name": "python"
    }
  },
  "cells": [
    {
      "cell_type": "markdown",
      "metadata": {
        "id": "view-in-github",
        "colab_type": "text"
      },
      "source": [
        "<a href=\"https://colab.research.google.com/github/Patelyash23/CODECRAFT_CS_03/blob/main/Password_Complexity_Checker.ipynb\" target=\"_parent\"><img src=\"https://colab.research.google.com/assets/colab-badge.svg\" alt=\"Open In Colab\"/></a>"
      ]
    },
    {
      "cell_type": "code",
      "execution_count": null,
      "metadata": {
        "colab": {
          "base_uri": "https://localhost:8080/"
        },
        "id": "opnLDttjh1VU",
        "outputId": "97f7cfe4-6479-4038-f918-b9eb6d84e05e"
      },
      "outputs": [
        {
          "output_type": "stream",
          "name": "stdout",
          "text": [
            "\n",
            "=== Password Strength Checker ===\n",
            "Enter a password to check (or type 'exit' to quit): J@ck_(123)-kIng#\n",
            "Password Strength: Strong\n",
            "\n",
            "=== Password Strength Checker ===\n"
          ]
        }
      ],
      "source": [
        "import string\n",
        "\n",
        "def check_password_strength(password):\n",
        "    length_score = len(password) >= 8\n",
        "    upper_score = any(c.isupper() for c in password)\n",
        "    lower_score = any(c.islower() for c in password)\n",
        "    digit_score = any(c.isdigit() for c in password)\n",
        "    special_score = any(c in string.punctuation for c in password)\n",
        "\n",
        "    score = sum([length_score, upper_score, lower_score, digit_score, special_score])\n",
        "\n",
        "    if score == 5:\n",
        "        return \"Strong\"\n",
        "    elif score >= 3:\n",
        "        return \"Moderate\"\n",
        "    else:\n",
        "        return \"Weak\"\n",
        "\n",
        "def main():\n",
        "    while True:\n",
        "        print(\"\\n Password Strength Checker \")\n",
        "        password = input(\"Enter a password to check (or type 'exit' to quit): \").strip()\n",
        "        if password.lower() == 'exit':\n",
        "            print(\"Exiting Password Checker.\")\n",
        "            break\n",
        "        strength = check_password_strength(password)\n",
        "        print(f\"Password Strength: {strength}\")\n",
        "\n",
        "if __name__ == \"__main__\":\n",
        "    main()\n"
      ]
    }
  ]
}